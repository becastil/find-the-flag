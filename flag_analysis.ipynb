{
 "cells": [
  {
   "cell_type": "code",
   "execution_count": null,
   "id": "49804d5a-438d-433f-ba4d-6015352e1b20",
   "metadata": {},
   "outputs": [],
   "source": [
    "import pandas as pd\n",
    "from sklearn.model_selection import train_test_split\n",
    "from sklearn.tree import DecisionTreeClassifier\n",
    "import matplotlib.pyplot as plt"
   ]
  },
  {
   "cell_type": "code",
   "execution_count": null,
   "id": "0c2b96cd-7c93-4d70-8b98-efd14f3b7f18",
   "metadata": {},
   "outputs": [],
   "source": [
    "# Step 1\n",
    "flags = pd.read_csv(r\"C:\\Users\\becas\\OneDrive\\Documents\\find-the-flag\\flag.csv\", header = 0)\n",
    "# Step 2\n",
    "print(flags.columns)\n",
    "print(flags.head())"
   ]
  },
  {
   "cell_type": "code",
   "execution_count": null,
   "id": "ff92b1af-d987-4847-aa20-9e06d53745f4",
   "metadata": {},
   "outputs": [],
   "source": [
    "# Step 3\n",
    "# Link to dataset legend: https://archive.ics.uci.edu/dataset/40/flags\n",
    "# Use the legend to understand what the numeric values represent.\n",
    "# For example, Andorra's \"Landmass\" is 3, which corresponds to Europe."
   ]
  },
  {
   "cell_type": "code",
   "execution_count": null,
   "id": "c8257945-fd99-4396-b841-2cc9602ac459",
   "metadata": {},
   "outputs": [],
   "source": [
    "# Step 4\n",
    "labels = flags[['Landmass']]"
   ]
  },
  {
   "cell_type": "code",
   "execution_count": null,
   "id": "1e2b9e1c-be99-4c78-9548-f0d069aa2a8a",
   "metadata": {},
   "outputs": [],
   "source": [
    "# Step 5\n",
    "# data = flags[[\"Red\", \"Green\", \"Blue\", \"Gold\", \"White\", \"Black\", \"Orange\"]]\n",
    "data = flags[[\"Red\", \"Green\", \"Blue\", \"Gold\",\n",
    " \"White\", \"Black\", \"Orange\",\n",
    " \"Circles\",\n",
    "\"Crosses\",\"Saltires\",\"Quarters\",\"Sunstars\",\n",
    "\"Crescent\",\"Triangle\"]]"
   ]
  },
  {
   "cell_type": "code",
   "execution_count": null,
   "id": "6e08c8d3-11ac-4122-bb4b-c0b72384ac42",
   "metadata": {},
   "outputs": [],
   "source": [
    "# Step 6\n",
    "train_data, test_data, train_labels, test_labels = train_test_split(data, labels, random_state=1)"
   ]
  },
  {
   "cell_type": "code",
   "execution_count": null,
   "id": "3ac5c9f9-475b-4e69-b9e5-b05771c11ecb",
   "metadata": {},
   "outputs": [],
   "source": [
    "# Step 7\n",
    "tree = DecisionTreeClassifier(random_state = 1)"
   ]
  },
  {
   "cell_type": "code",
   "execution_count": null,
   "id": "1464d085-9672-416b-9c7e-5ebacd720576",
   "metadata": {},
   "outputs": [],
   "source": [
    "# Step 8\n",
    "tree.fit(train_data, train_labels)"
   ]
  },
  {
   "cell_type": "code",
   "execution_count": null,
   "id": "b9d50225-bf4d-411e-aeea-1049fd54064a",
   "metadata": {},
   "outputs": [],
   "source": [
    "# Step 9\n",
    "# print(tree.score(test_data, test_labels))"
   ]
  },
  {
   "cell_type": "code",
   "execution_count": null,
   "id": "a019186d-af28-400f-b95e-05203eeb5494",
   "metadata": {},
   "outputs": [],
   "source": [
    "# Step 10\n",
    "# scores = []\n",
    "\n",
    "# for i in range(1, 21):\n",
    "#     tree = DecisionTreeClassifier(max_depth = i, random_state = 1)\n",
    "#     tree.fit(train_data, train_labels)\n",
    "#     scores.append(tree.score(test_data, test_labels))\n",
    "# for i, score in enumerate(scores, start= 1):\n",
    "#     print(f\"Depth {i}: {score:.2%}\")"
   ]
  },
  {
   "cell_type": "code",
   "execution_count": null,
   "id": "f3994a66-c3dc-46f1-9e98-d149d095575f",
   "metadata": {},
   "outputs": [],
   "source": [
    "# Step 11 and 12\n",
    "# plt.plot(range(1, 21), scores)\n",
    "# plt.xlabel(\"Max Tree Depth\")\n",
    "# plt.ylabel(\"Accuracy\")\n",
    "# plt.title(\"Decision Tree Depth vs Accuracy\")\n",
    "# plt.show()\n"
   ]
  },
  {
   "cell_type": "code",
   "execution_count": null,
   "id": "f1e8327b-f0ed-4dfc-ac21-631ebcd3f352",
   "metadata": {},
   "outputs": [],
   "source": [
    "# Step 13\n",
    "# flags[[\"Red\", \"Green\", \"Blue\", \"Gold\",\n",
    "#  \"White\", \"Black\", \"Orange\",\n",
    "#  \"Circles\",\n",
    "# \"Crosses\",\"Saltires\",\"Quarters\",\"Sunstars\",\n",
    "# \"Crescent\",\"Triangle\"]]\n",
    "\n",
    "scores = []\n",
    "\n",
    "for i in range(1, 21): \n",
    "    tree = DecisionTreeClassifier(max_depth = i, random_state = 1)\n",
    "    tree.fit(train_data, train_labels)\n",
    "    scores.append(tree.score(test_data, test_labels))\n",
    "for i, score in enumerate(scores, start = 1): \n",
    "    print(f\"Depth {i}: {score:.2%}\")"
   ]
  },
  {
   "cell_type": "code",
   "execution_count": null,
   "id": "71aea61d-075d-4766-8d44-ea07543393fd",
   "metadata": {},
   "outputs": [],
   "source": [
    "plt.plot(range(1, 21), scores)\n",
    "plt.xlabel(\"Max Tree Depth\")\n",
    "plt.ylabel(\"Accuracy\")\n",
    "plt.title(\"Decision Tree Accuracy (Colors + Shapes)\")\n",
    "plt.show()"
   ]
  },
  {
   "cell_type": "code",
   "execution_count": null,
   "id": "13201139-b750-4be8-929b-fe3048702b35",
   "metadata": {},
   "outputs": [],
   "source": [
    "# Step 14\n",
    "# # Option A - Try predicting a different label\n",
    "\n",
    "# labels = flags[[\"Language\"]] # change label\n",
    "# # then repeat 'train_test_split(...)\n",
    "# # tree training loop\n",
    "# # plotting accuracy\n",
    "\n",
    "# # Option B - Try different feature combinations\n",
    "\n",
    "# # maybe shapes without colors, or shapes + one standout color like \"Gold\"\n",
    "# data = flags[[\"Circles\", \"Crosses\", \"Sunstars\", \"Gold\"]]\n",
    "\n",
    "# # Option C - Tune more parameters\n",
    "\n",
    "# # try adjusting:\n",
    "# tree = DecisionTreeClassifier(max_depth = i, max_leaf_nodes = 10, random_state = 1)\n",
    "# # you can try: \n",
    "# # max_leaf_nodes\n",
    "# # min_samples_split\n",
    "# # criterion='entropy' instead of 'gini'"
   ]
  }
 ],
 "metadata": {
  "kernelspec": {
   "display_name": "Python 3 (ipykernel)",
   "language": "python",
   "name": "python3"
  },
  "language_info": {
   "codemirror_mode": {
    "name": "ipython",
    "version": 3
   },
   "file_extension": ".py",
   "mimetype": "text/x-python",
   "name": "python",
   "nbconvert_exporter": "python",
   "pygments_lexer": "ipython3",
   "version": "3.12.3"
  }
 },
 "nbformat": 4,
 "nbformat_minor": 5
}
